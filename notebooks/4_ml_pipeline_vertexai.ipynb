{
  "nbformat": 4,
  "nbformat_minor": 0,
  "metadata": {
    "colab": {
      "provenance": []
    },
    "kernelspec": {
      "name": "python3",
      "display_name": "Python 3"
    },
    "language_info": {
      "name": "python"
    }
  },
  "cells": [
    {
      "cell_type": "markdown",
      "source": [
        "## 🤖 4. ML Pipeline with Vertex AI & Feast\n",
        " In this notebook, we:\n",
        " - Use Feast to fetch features for training\n",
        " - Train a regression model using scikit-learn\n",
        " - Log metrics and save model to GCS\n",
        " - Deploy model to Vertex AI\n",
        "\n",
        "### ⚙️ Setup & Imports"
      ],
      "metadata": {
        "id": "X2iAJ5xxtZsB"
      }
    },
    {
      "cell_type": "code",
      "source": [
        "# =================== ✅ CODE CELL ===================\n",
        "!pip install feast google-cloud-storage scikit-learn joblib --quiet\n",
        "\n",
        "import os\n",
        "import joblib\n",
        "import pandas as pd\n",
        "from feast import FeatureStore\n",
        "from google.cloud import storage\n",
        "from sklearn.ensemble import RandomForestRegressor\n",
        "from sklearn.metrics import mean_squared_error\n",
        "import json\n",
        "import numpy as np"
      ],
      "metadata": {
        "id": "XipFcDjItxoi"
      },
      "execution_count": null,
      "outputs": []
    },
    {
      "cell_type": "markdown",
      "source": [
        "### 🧠 Step 1: Retrieve Features from Feast"
      ],
      "metadata": {
        "id": "5r-PlyNWtzxu"
      }
    },
    {
      "cell_type": "code",
      "source": [
        "store = FeatureStore(repo_path=\"my_feature_repo\")\n",
        "\n",
        "entity_df = pd.DataFrame({\n",
        "    \"user_id\": list(range(1, 51)),\n",
        "    \"event_timestamp\": pd.to_datetime(\"now\")\n",
        "})\n",
        "\n",
        "training_df = store.get_historical_features(\n",
        "    entity_df=entity_df,\n",
        "    features=[\n",
        "        \"user_features:avg_rating\",\n",
        "        \"user_features:num_ratings\"\n",
        "    ],\n",
        ").to_df()\n",
        "\n",
        "print(\"✅ Retrieved training features\")\n",
        "training_df.head()"
      ],
      "metadata": {
        "id": "9wSe2nAIt3zv"
      },
      "execution_count": null,
      "outputs": []
    },
    {
      "cell_type": "markdown",
      "source": [
        "### 🏋️ Step 2: Train Model"
      ],
      "metadata": {
        "id": "hoHuLj5it6pI"
      }
    },
    {
      "cell_type": "code",
      "source": [
        "X = training_df[[\"avg_rating\", \"num_ratings\"]]\n",
        "y = training_df[\"avg_rating\"]  # For demo; replace with correct label in real use\n",
        "\n",
        "model = RandomForestRegressor(n_estimators=100, random_state=42)\n",
        "model.fit(X, y)\n",
        "\n",
        "y_pred = model.predict(X)\n",
        "rmse = np.sqrt(mean_squared_error(y, y_pred))\n",
        "print(f\"✅ RMSE: {rmse:.4f}\")"
      ],
      "metadata": {
        "id": "Nsz4NR0Rt9tz"
      },
      "execution_count": null,
      "outputs": []
    },
    {
      "cell_type": "markdown",
      "source": [
        "### 💾 Step 3: Save Model and Metrics"
      ],
      "metadata": {
        "id": "EByCq_rVuBxT"
      }
    },
    {
      "cell_type": "code",
      "source": [
        "output_dir = os.environ.get(\"AIP_MODEL_DIR\", \"/tmp/model\")\n",
        "os.makedirs(output_dir, exist_ok=True)\n",
        "\n",
        "model_path = os.path.join(output_dir, \"model.joblib\")\n",
        "joblib.dump(model, model_path)\n",
        "\n",
        "metrics_path = os.path.join(output_dir, \"metrics.json\")\n",
        "with open(metrics_path, \"w\") as f:\n",
        "    json.dump({\"rmse\": float(rmse)}, f)\n",
        "\n",
        "print(f\"✅ Saved model to {model_path}\")\n",
        "print(f\"✅ Saved metrics to {metrics_path}\")"
      ],
      "metadata": {
        "id": "u63_EzKnuEqZ"
      },
      "execution_count": null,
      "outputs": []
    },
    {
      "cell_type": "markdown",
      "source": [
        "### ☁️ Step 4: Upload to GCS (Optional)"
      ],
      "metadata": {
        "id": "yo7hNpSEuGla"
      }
    },
    {
      "cell_type": "code",
      "source": [
        "bucket_name = \"your-model-artifacts-bucket\"\n",
        "destination_blob = \"models/recommender/model.joblib\"\n",
        "\n",
        "client = storage.Client()\n",
        "bucket = client.bucket(bucket_name)\n",
        "blob = bucket.blob(destination_blob)\n",
        "blob.upload_from_filename(model_path)\n",
        "\n",
        "print(f\"✅ Model uploaded to gs://{bucket_name}/{destination_blob}\")"
      ],
      "metadata": {
        "id": "8QqRKvmduI87"
      },
      "execution_count": null,
      "outputs": []
    },
    {
      "cell_type": "markdown",
      "source": [
        "### 🚀 Step 5: Deploy to Vertex AI"
      ],
      "metadata": {
        "id": "GF66EYFbuK3m"
      }
    },
    {
      "cell_type": "code",
      "source": [
        "from google.cloud import aiplatform\n",
        "\n",
        "aiplatform.init(project=\"your-project-id\", location=\"us-central1\")\n",
        "\n",
        "model = aiplatform.Model.upload(\n",
        "    display_name=\"recommender-regression-model\",\n",
        "    artifact_uri=f\"gs://{bucket_name}/models/recommender/\",\n",
        "    serving_container_image_uri=\"us-docker.pkg.dev/vertex-ai/prediction/sklearn-cpu.1-0:latest\",\n",
        ")\n",
        "\n",
        "print(\"✅ Model uploaded to Vertex AI\")"
      ],
      "metadata": {
        "id": "y--Bm99wuQLG"
      },
      "execution_count": null,
      "outputs": []
    },
    {
      "cell_type": "markdown",
      "source": [
        "## ✅ Summary\n",
        " - Fetched training data from Feast\n",
        " - Trained and evaluated regression model\n",
        " - Saved and uploaded model artifacts to GCS\n",
        " - Deployed model to Vertex AI\n"
      ],
      "metadata": {
        "id": "Jj0ASeK5uS7m"
      }
    }
  ]
}