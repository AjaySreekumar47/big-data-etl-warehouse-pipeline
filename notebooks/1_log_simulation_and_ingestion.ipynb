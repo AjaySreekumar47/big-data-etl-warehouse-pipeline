{
  "nbformat": 4,
  "nbformat_minor": 0,
  "metadata": {
    "colab": {
      "provenance": []
    },
    "kernelspec": {
      "name": "python3",
      "display_name": "Python 3"
    },
    "language_info": {
      "name": "python"
    }
  },
  "cells": [
    {
      "cell_type": "markdown",
      "source": [
        "## 📝 1. Synthetic Log Simulation & NoSQL Ingestion\n",
        "This notebook generates synthetic enterprise logs (Sales, User Activity, Inventory), and uploads them to MongoDB Atlas for NoSQL ETL processing.\n",
        "\n",
        "### 🔧 Setup & Imports"
      ],
      "metadata": {
        "id": "wvWBpXJ2p2DJ"
      }
    },
    {
      "cell_type": "code",
      "source": [
        "!pip install faker pymongo dnspython --quiet\n",
        "\n",
        "import json\n",
        "import random\n",
        "import datetime\n",
        "from faker import Faker\n",
        "from pymongo import MongoClient\n",
        "\n",
        "fake = Faker()\n",
        "random.seed(42)"
      ],
      "metadata": {
        "id": "nVWRS30HqJGL"
      },
      "execution_count": null,
      "outputs": []
    },
    {
      "cell_type": "markdown",
      "source": [
        "\n",
        "### 🛒 Step 1: Generate Synthetic Sales Logs"
      ],
      "metadata": {
        "id": "zFoGspPbqNnM"
      }
    },
    {
      "cell_type": "code",
      "source": [
        "def generate_sales_logs(n=10):\n",
        "    sales_logs = []\n",
        "    for _ in range(n):\n",
        "        log = {\n",
        "            \"timestamp\": fake.date_time_this_year().isoformat(),\n",
        "            \"customer_id\": fake.uuid4(),\n",
        "            \"product_id\": fake.uuid4(),\n",
        "            \"region\": random.choice([\"North\", \"South\", \"East\", \"West\"]),\n",
        "            \"price\": round(random.uniform(5.0, 200.0), 2),\n",
        "            \"quantity\": random.randint(1, 10),\n",
        "            \"payment_type\": random.choice([\"card\", \"cash\", \"upi\"])\n",
        "        }\n",
        "        sales_logs.append(log)\n",
        "    return sales_logs\n",
        "\n",
        "sales_logs = generate_sales_logs(10)\n",
        "print(json.dumps(sales_logs[:2], indent=2))  # Sample"
      ],
      "metadata": {
        "id": "q9GZK2vLqS34"
      },
      "execution_count": null,
      "outputs": []
    },
    {
      "cell_type": "markdown",
      "source": [
        "### 📱 Step 2: Generate Synthetic User Activity Logs"
      ],
      "metadata": {
        "id": "3Bw68sTWqWW_"
      }
    },
    {
      "cell_type": "code",
      "source": [
        "def generate_user_activity_logs(n=10):\n",
        "    logs = []\n",
        "    for _ in range(n):\n",
        "        log = {\n",
        "            \"timestamp\": fake.date_time_this_year().isoformat(),\n",
        "            \"user_id\": fake.uuid4(),\n",
        "            \"action\": random.choice([\"click\", \"scroll\", \"view\", \"purchase\"]),\n",
        "            \"device\": random.choice([\"mobile\", \"desktop\", \"tablet\"]),\n",
        "            \"browser\": random.choice([\"chrome\", \"firefox\", \"safari\", \"edge\"]),\n",
        "            \"session_duration\": round(random.uniform(0.5, 5.0), 2)  # in minutes\n",
        "        }\n",
        "        logs.append(log)\n",
        "    return logs\n",
        "\n",
        "activity_logs = generate_user_activity_logs(10)\n",
        "print(json.dumps(activity_logs[:2], indent=2))"
      ],
      "metadata": {
        "id": "4UGrqUa_qafc"
      },
      "execution_count": null,
      "outputs": []
    },
    {
      "cell_type": "markdown",
      "source": [
        "### 🏬 Step 3: Generate Synthetic Inventory Logs"
      ],
      "metadata": {
        "id": "k27PJ6w2qizr"
      }
    },
    {
      "cell_type": "code",
      "source": [
        "def generate_inventory_logs(n=10):\n",
        "    logs = []\n",
        "    for _ in range(n):\n",
        "        log = {\n",
        "            \"timestamp\": fake.date_time_this_year().isoformat(),\n",
        "            \"product_id\": fake.uuid4(),\n",
        "            \"warehouse_id\": fake.uuid4(),\n",
        "            \"quantity_added\": random.randint(1, 50),\n",
        "            \"quantity_removed\": random.randint(0, 30),\n",
        "            \"event_type\": random.choice([\"restock\", \"depletion\", \"transfer\"])\n",
        "        }\n",
        "        logs.append(log)\n",
        "    return logs\n",
        "\n",
        "inventory_logs = generate_inventory_logs(10)\n",
        "print(json.dumps(inventory_logs[:2], indent=2))"
      ],
      "metadata": {
        "id": "h1qSLMiNqmmP"
      },
      "execution_count": null,
      "outputs": []
    },
    {
      "cell_type": "markdown",
      "source": [
        "### ☁️ Step 4: Connect to MongoDB Atlas"
      ],
      "metadata": {
        "id": "MOeI2XL1qo5h"
      }
    },
    {
      "cell_type": "code",
      "source": [
        "# Replace with your actual MongoDB connection string\n",
        "MONGO_URI = \"mongodb+srv://<username>:<password>@<cluster>.mongodb.net/?retryWrites=true&w=majority\"\n",
        "client = MongoClient(MONGO_URI)\n",
        "db = client[\"enterprise_logs\"]"
      ],
      "metadata": {
        "id": "OX-sYDeaqujn"
      },
      "execution_count": null,
      "outputs": []
    },
    {
      "cell_type": "markdown",
      "source": [
        "### ☁️ Step 5: Upload Logs to Collections"
      ],
      "metadata": {
        "id": "wVZBtW0sqwgb"
      }
    },
    {
      "cell_type": "code",
      "source": [
        "def upload_logs_to_mongodb(logs, collection_name):\n",
        "    collection = db[collection_name]\n",
        "    result = collection.insert_many(logs)\n",
        "    print(f\"✅ Uploaded {len(result.inserted_ids)} records to '{collection_name}'\")\n",
        "\n",
        "upload_logs_to_mongodb(sales_logs, \"sales_logs\")\n",
        "upload_logs_to_mongodb(activity_logs, \"user_activity_logs\")\n",
        "upload_logs_to_mongodb(inventory_logs, \"inventory_events\")"
      ],
      "metadata": {
        "id": "n51WJDjpq0J5"
      },
      "execution_count": null,
      "outputs": []
    },
    {
      "cell_type": "markdown",
      "source": [
        "### ✅ Summary\n",
        "- Generated synthetic logs for Sales, Activity, and Inventory.\n",
        "- Ingested all records into MongoDB Atlas collections.\n",
        "- Collections are ready for distributed PySpark ETL in the next stage."
      ],
      "metadata": {
        "id": "YDNIT29Hq1zA"
      }
    }
  ]
}