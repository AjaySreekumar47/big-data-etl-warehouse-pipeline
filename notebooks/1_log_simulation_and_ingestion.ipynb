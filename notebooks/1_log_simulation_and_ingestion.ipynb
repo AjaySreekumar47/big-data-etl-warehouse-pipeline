{
 "cells": [
  {
   "cell_type": "markdown",
   "id": "45436a57",
   "metadata": {},
   "source": [
    "# 📊 1. Log Simulation and Ingestion\n",
    "This notebook simulates enterprise logs using Faker and uploads them to MongoDB Atlas."
   ]
  },
  {
   "cell_type": "markdown",
   "id": "f296c2e9",
   "metadata": {},
   "source": [
    "## 🔧 Install Dependencies"
   ]
  },
  {
   "cell_type": "code",
   "execution_count": null,
   "id": "8d5a1638",
   "metadata": {},
   "outputs": [],
   "source": [
    "!pip install pymongo faker"
   ]
  },
  {
   "cell_type": "markdown",
   "id": "afd652d3",
   "metadata": {},
   "source": [
    "## 🧪 Generate Synthetic Logs"
   ]
  },
  {
   "cell_type": "code",
   "execution_count": null,
   "id": "b90a0579",
   "metadata": {},
   "outputs": [],
   "source": [
    "from faker import Faker\n",
    "import random\n",
    "fake = Faker()\n",
    "\n",
    "def generate_sales_log(n=100):\n",
    "    return [{\n",
    "        \"sale_id\": f\"S{random.randint(100000, 999999)}\",\n",
    "        \"customer_id\": f\"C{random.randint(100, 999)}\",\n",
    "        \"product_id\": f\"P{random.randint(100, 999)}\",\n",
    "        \"region\": random.choice([\"North\", \"South\", \"East\", \"West\"]),\n",
    "        \"quantity\": random.randint(1, 5),\n",
    "        \"price\": round(random.uniform(10, 100), 2),\n",
    "        \"timestamp\": fake.date_time_this_year().isoformat()\n",
    "    } for _ in range(n)]\n",
    "\n",
    "# Similarly define generate_user_activity_log() and generate_inventory_events()\n"
   ]
  },
  {
   "cell_type": "markdown",
   "id": "0ecb3ac1",
   "metadata": {},
   "source": [
    "## 🔐 Connect to MongoDB Atlas"
   ]
  },
  {
   "cell_type": "code",
   "execution_count": null,
   "id": "fd9ab389",
   "metadata": {},
   "outputs": [],
   "source": [
    "import pymongo\n",
    "mongo_uri = \"mongodb+srv://<username>:<password>@cluster.mongodb.net/\"\n",
    "client = pymongo.MongoClient(mongo_uri)\n",
    "db = client[\"enterprise_logs\"]\n",
    "print(db.list_collection_names())"
   ]
  },
  {
   "cell_type": "markdown",
   "id": "a051bee7",
   "metadata": {},
   "source": [
    "## 🚀 Upload to Collections"
   ]
  },
  {
   "cell_type": "code",
   "execution_count": null,
   "id": "26a5200f",
   "metadata": {},
   "outputs": [],
   "source": [
    "db[\"sales_logs\"].insert_many(generate_sales_log(100))"
   ]
  }
 ],
 "metadata": {},
 "nbformat": 4,
 "nbformat_minor": 5
}
