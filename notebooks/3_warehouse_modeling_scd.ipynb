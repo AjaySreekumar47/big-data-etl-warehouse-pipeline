{
 "cells": [
  {
   "cell_type": "markdown",
   "id": "2d2eb90b",
   "metadata": {},
   "source": [
    "# 🏗️ 3. Warehouse Modeling with SCD\n",
    "This notebook builds a star schema and adds SCD logic to dimension tables."
   ]
  },
  {
   "cell_type": "markdown",
   "id": "1607f3e4",
   "metadata": {},
   "source": [
    "## 📐 Create Dimensions and Fact Table"
   ]
  },
  {
   "cell_type": "code",
   "execution_count": null,
   "id": "7cc11319",
   "metadata": {},
   "outputs": [],
   "source": [
    "sales_clean = spark.read.parquet(\"warehouse/sales_logs\")\n",
    "sales_clean.createOrReplaceTempView(\"sales_logs\")\n",
    "\n",
    "dim_customer = sales_clean.select(\"customer_id\").distinct()\n",
    "dim_product = sales_clean.select(\"product_id\").distinct()\n",
    "dim_region = sales_clean.select(\"region\").distinct()"
   ]
  },
  {
   "cell_type": "markdown",
   "id": "f1cddc2c",
   "metadata": {},
   "source": [
    "## 📅 Create dim_time Table"
   ]
  },
  {
   "cell_type": "code",
   "execution_count": null,
   "id": "8d3bf614",
   "metadata": {},
   "outputs": [],
   "source": [
    "from pyspark.sql.functions import year, month, dayofmonth, dayofweek, date_format\n",
    "dim_time = sales_clean.select(\"timestamp\").withColumn(\"date\", col(\"timestamp\").cast(\"date\"))     .withColumn(\"year\", year(\"timestamp\"))     .withColumn(\"month\", month(\"timestamp\"))     .withColumn(\"day\", dayofmonth(\"timestamp\"))     .withColumn(\"weekday\", dayofweek(\"timestamp\"))     .withColumn(\"month_name\", date_format(\"timestamp\", \"MMMM\")).dropDuplicates([\"date\"])"
   ]
  },
  {
   "cell_type": "markdown",
   "id": "6be62e07",
   "metadata": {},
   "source": [
    "## 🧾 Create fact_sales and Enrich with SCD2"
   ]
  },
  {
   "cell_type": "code",
   "execution_count": null,
   "id": "9c8da968",
   "metadata": {},
   "outputs": [],
   "source": [
    "# Placeholder for SCD2 implementation from earlier notebook"
   ]
  }
 ],
 "metadata": {},
 "nbformat": 4,
 "nbformat_minor": 5
}
